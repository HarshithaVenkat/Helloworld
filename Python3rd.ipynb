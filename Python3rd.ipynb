{
 "cells": [
  {
   "cell_type": "markdown",
   "id": "5aecd5d7",
   "metadata": {},
   "source": [
    "# Python Codes on 03/01/2023"
   ]
  },
  {
   "cell_type": "markdown",
   "id": "0bad37c5",
   "metadata": {},
   "source": [
    "# Group Anagrams"
   ]
  },
  {
   "attachments": {},
   "cell_type": "markdown",
   "id": "17fd2110",
   "metadata": {},
   "source": [
    "# Problem Statement\n",
    "\n",
    "Given an array of strings strs, group the anagrams together. You can return the answer in any order.\n",
    "\n",
    "An Anagram is a word or phrase formed by rearranging the letters of a different word or phrase, typically using all the original letters exactly once.\n",
    "Example 1:\n",
    "\n",
    "Input: strs = [\"eat\",\"tea\",\"tan\",\"ate\",\"nat\",\"bat\"]\n",
    "Output: [[\"bat\"],[\"nat\",\"tan\"],[\"ate\",\"eat\",\"tea\"]]\n",
    "\n",
    "Example 2:\n",
    "\n",
    "Input: strs = [\"\"]\n",
    "Output: [[\"\"]]\n",
    "\n",
    "Example 3:\n",
    "\n",
    "Input: strs = [\"a\"]\n",
    "Output: [[\"a\"]]\n",
    "\n",
    "\n"
   ]
  },
  {
   "cell_type": "code",
   "execution_count": 4,
   "id": "9be27df2",
   "metadata": {},
   "outputs": [],
   "source": [
    "#Source code\n",
    "def groupAnagrams(strs):\n",
    "    d = {}        \n",
    "    for i in strs:\n",
    "        key = \"\".join(sorted(i))\n",
    "        if key not in d:\n",
    "            d[key] = [i]            \n",
    "        else:\n",
    "            d[key].append(i)                \n",
    "    return d.values()\n",
    "\n",
    "    "
   ]
  },
  {
   "cell_type": "code",
   "execution_count": 5,
   "id": "7bc5d6b6",
   "metadata": {},
   "outputs": [
    {
     "data": {
      "text/plain": [
       "dict_values([['eat', 'tea', 'ate'], ['tan', 'nat'], ['bat']])"
      ]
     },
     "execution_count": 5,
     "metadata": {},
     "output_type": "execute_result"
    }
   ],
   "source": [
    "strs = [\"eat\",\"tea\",\"tan\",\"ate\",\"nat\",\"bat\"]\n",
    "groupAnagrams(strs)"
   ]
  },
  {
   "cell_type": "markdown",
   "id": "bd5b5191",
   "metadata": {},
   "source": [
    "# Product of Array Except Self"
   ]
  },
  {
   "cell_type": "markdown",
   "id": "77045026",
   "metadata": {},
   "source": [
    "# Given an integer array nums, return an array answer such that answer[i] is equal to the product of all the elements of nums except nums[i]\n",
    "\n",
    "Example 1:\n",
    "\n",
    "Input: nums = [1,2,3,4]\n",
    "Output: [24,12,8,6]\n",
    "\n",
    "Example 2:\n",
    "\n",
    "Input: nums = [-1,1,0,-3,3]\n",
    "Output: [0,0,9,0,0]\n",
    " \n",
    " "
   ]
  },
  {
   "cell_type": "code",
   "execution_count": 11,
   "id": "3e34d88d",
   "metadata": {},
   "outputs": [],
   "source": [
    "from math import prod"
   ]
  },
  {
   "cell_type": "code",
   "execution_count": 14,
   "id": "2989aad2",
   "metadata": {},
   "outputs": [],
   "source": [
    "def productExceptSelf(nums):\n",
    "    g=[1]*(len(nums))\n",
    "    for i in range(0,len(g)):\n",
    "        g[i]=prod(nums[:i]+nums[i+1:])\n",
    "    return g"
   ]
  },
  {
   "cell_type": "code",
   "execution_count": 15,
   "id": "4c2d3645",
   "metadata": {},
   "outputs": [
    {
     "data": {
      "text/plain": [
       "[24, 12, 8, 6]"
      ]
     },
     "execution_count": 15,
     "metadata": {},
     "output_type": "execute_result"
    }
   ],
   "source": [
    "nums=[1,2,3,4]\n",
    "productExceptSelf(nums)"
   ]
  },
  {
   "cell_type": "code",
   "execution_count": null,
   "id": "ab2e4de3",
   "metadata": {},
   "outputs": [],
   "source": []
  }
 ],
 "metadata": {
  "kernelspec": {
   "display_name": "Python 3 (ipykernel)",
   "language": "python",
   "name": "python3"
  },
  "language_info": {
   "codemirror_mode": {
    "name": "ipython",
    "version": 3
   },
   "file_extension": ".py",
   "mimetype": "text/x-python",
   "name": "python",
   "nbconvert_exporter": "python",
   "pygments_lexer": "ipython3",
   "version": "3.9.7"
  }
 },
 "nbformat": 4,
 "nbformat_minor": 5
}
